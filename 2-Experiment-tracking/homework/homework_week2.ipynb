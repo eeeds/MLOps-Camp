{
 "cells": [
  {
   "cell_type": "markdown",
   "metadata": {},
   "source": [
    "## Q1. Install MLflow\n",
    "\n",
    "To get started with MLflow you'll need to install the MLflow Python package.\n",
    "\n",
    "For this we recommend creating a separate Python environment, for example, you can use [conda environments](https://docs.conda.io/projects/conda/en/latest/user-guide/getting-started.html#managing-envs), and then install the package there with `pip` or `conda`.\n",
    "\n",
    "Once you installed the package, run the command `mlflow --version` and check the output.\n",
    "\n",
    "What's the version that you have?"
   ]
  },
  {
   "cell_type": "code",
   "execution_count": 3,
   "metadata": {},
   "outputs": [
    {
     "name": "stdout",
     "output_type": "stream",
     "text": [
      "Python 3.9.12\n"
     ]
    }
   ],
   "source": [
    "#I created an enviroment called mlflow_enviroment and installed all the packages that I needed\n",
    "!python -V"
   ]
  },
  {
   "cell_type": "code",
   "execution_count": 5,
   "metadata": {},
   "outputs": [
    {
     "name": "stdout",
     "output_type": "stream",
     "text": [
      "mlflow, version 1.26.0\n"
     ]
    }
   ],
   "source": [
    "##With mlflow version:\n",
    "!mlflow --version"
   ]
  },
  {
   "cell_type": "markdown",
   "metadata": {},
   "source": [
    "## Q2. Download and preprocess the data\n",
    "\n",
    "We'll use the Green Taxi Trip Records dataset. \n",
    "\n",
    "Download the data for January, February and March 2021 in parquet format from [here](https://www1.nyc.gov/site/tlc/about/tlc-trip-record-data.page).\n",
    "\n",
    "Use the script `preprocess_data.py` located in the folder [`homework`](https://github.com/DataTalksClub/mlops-zoomcamp/tree/main/02-experiment-tracking/homework) to preprocess the data.\n",
    "\n",
    "The script will\n",
    "\n",
    "- load the data from the folder `<TAXI_DATA_FOLDER>` (the folder where you have downloaded the data),\n",
    "- fit a `DictVectorizer` on the training set (January 2021 data),\n",
    "- save the preprocessed datasets and the model to disk\n",
    "\n",
    "Your task is to download the datasets and then execute this command:\n",
    "\n",
    "```\n",
    "python preprocess_data.py --raw_data_path <TAXI_DATA_FOLDER> --dest_path ./output\n",
    "```\n",
    "Tip: go to `02-experiment-tracking/homework/` folder before executing the command and change the value of `<TAXI_DATA_FOLDER>` to the location where you saved the data.\n",
    "\n",
    "How many files were saved to `OUTPUT_FOLDER`?\n",
    "\n",
    "* 1\n",
    "* 3\n",
    "* 4\n",
    "* 7"
   ]
  },
  {
   "cell_type": "code",
   "execution_count": 9,
   "metadata": {},
   "outputs": [],
   "source": [
    "!python preprocess_data.py --raw_data_path data --dest_path ./output"
   ]
  },
  {
   "cell_type": "code",
   "execution_count": 16,
   "metadata": {},
   "outputs": [
    {
     "name": "stdout",
     "output_type": "stream",
     "text": [
      "Number of files in output folder: 4\n"
     ]
    }
   ],
   "source": [
    "#I'll count the number of files in output folder\n",
    "import os\n",
    "\n",
    "n = len(os.listdir('./output'))\n",
    "print('Number of files in output folder:', n)"
   ]
  },
  {
   "cell_type": "markdown",
   "metadata": {},
   "source": [
    "## Q3. Train a model with autolog\n",
    "\n",
    "We will train a random forest regressor (from Scikit-Learn) on the taxi dataset.\n",
    "\n",
    "We have prepared the training script `train.py` for this exercise, which can be also found in the folder `homework`. The script will load the datasets produced by the previous step, train the model on the training set and finally calculate the RMSE on the validation set.\n",
    "\n",
    "Your task is to modify the script to enable **autologging** with MLflow, execute the script and then launch the MLflow UI to check that the experiment run was properly tracked. \n",
    "\n",
    "Tip 1: don't forget to wrap the training code with a `with mlflow.start_run():` statement as we showed in the videos.\n",
    "\n",
    "Tip 2: don't modify the hyperparameters of the model to make sure that the training will finish quickly.\n",
    "\n",
    "How many parameters are automatically logged by MLflow?\n",
    "\n",
    "* 19\n",
    "* 17\n",
    "* 10\n",
    "* 20"
   ]
  },
  {
   "cell_type": "code",
   "execution_count": 36,
   "metadata": {},
   "outputs": [
    {
     "name": "stderr",
     "output_type": "stream",
     "text": [
      "2022/05/27 16:37:48 WARNING mlflow.utils.autologging_utils: You are using an unsupported version of sklearn. If you encounter errors during autologging, try upgrading / downgrading sklearn to a supported version, or try upgrading MLflow.\n",
      "2022/05/27 16:38:10 WARNING mlflow.utils.autologging_utils: MLflow autologging encountered a warning: \"c:\\Users\\User\\anaconda3\\envs\\mlflow_enviroment\\lib\\site-packages\\_distutils_hack\\__init__.py:30: UserWarning: Setuptools is replacing distutils.\"\n"
     ]
    }
   ],
   "source": [
    "## Run train.py\n",
    "!python train.py --data_path ./output"
   ]
  },
  {
   "cell_type": "markdown",
   "metadata": {},
   "source": [
    "## Number of parameters\n",
    "\n",
    "![Number of Parameters](images/n_parameters.PNG)"
   ]
  },
  {
   "cell_type": "markdown",
   "metadata": {},
   "source": [
    "## Q4. Launch the tracking server locally\n",
    "\n",
    "We want to manage the entire lifecycle of our ML model. In this step, you'll need to launch a tracking server. This way we will also have access to the model registry. \n",
    "\n",
    "Your task is to\n",
    "\n",
    "* launch the tracking server on your local machine\n",
    "* select a SQLite db for the backend store and a folder called `artifacts` for the artifacts store\n",
    "\n",
    "You should keep the tracking server running to work on the next two exercises that use the server.\n",
    "\n",
    "In addition to `backend-store-uri`, what else do you need to pass to properly configure the server?\n",
    "\n",
    "* `default-artifact-root`\n",
    "* `serve-artifacts`\n",
    "* `artifacts-only`\n",
    "* `artifacts-destination`"
   ]
  },
  {
   "cell_type": "code",
   "execution_count": null,
   "metadata": {},
   "outputs": [],
   "source": []
  },
  {
   "cell_type": "markdown",
   "metadata": {},
   "source": [
    "## Q5. Tune the hyperparameters of the model\n",
    "\n",
    "Now let's try to reduce the validation error by tuning the hyperparameters of the random forest regressor using `hyperopt`.\n",
    "\n",
    "We have prepared the script `hpo.py` for this exercise. \n",
    "\n",
    "Your task is to modify the script `hpo.py` and make sure that the validation RMSE is logged to MLflow for each run of the hyperparameter optimization (you will need to add a few lines of code to the `objective` function) and run the script without passing any parameters.\n",
    "\n",
    "After that, open the MLflow UI and explore the runs from the experiment called `random-forest-hyperopt` to answer the question below.\n",
    "\n",
    "Important: don't use autologging for this exercise.\n",
    "\n",
    "The idea is to just log the information that you need to answer the question below, including:\n",
    "\n",
    "* the list of hyperparameters that are passed to the `objective` function during the optimization.\n",
    "* the RMSE obtained on the validation set (February 2021 data).\n",
    "\n",
    "What's the best validation RMSE that you got?\n",
    "\n",
    "* 6.128\n",
    "* 6.628\n",
    "* 7.128\n",
    "* 7.628"
   ]
  },
  {
   "cell_type": "code",
   "execution_count": 37,
   "metadata": {},
   "outputs": [
    {
     "name": "stdout",
     "output_type": "stream",
     "text": [
      "\n",
      "  0%|          | 0/50 [00:00<?, ?trial/s, best loss=?]\n",
      "  2%|▏         | 1/50 [00:13<10:52, 13.31s/trial, best loss: 6.658956269343007]\n",
      "  4%|▍         | 2/50 [00:13<04:38,  5.80s/trial, best loss: 6.658956269343007]\n",
      "  6%|▌         | 3/50 [00:14<02:46,  3.54s/trial, best loss: 6.658956269343007]\n",
      "  8%|▊         | 4/50 [00:22<04:07,  5.38s/trial, best loss: 6.651438559376775]\n",
      " 10%|█         | 5/50 [00:26<03:29,  4.66s/trial, best loss: 6.651438559376775]\n",
      " 12%|█▏        | 6/50 [00:42<06:14,  8.50s/trial, best loss: 6.651438559376775]\n",
      " 14%|█▍        | 7/50 [00:55<07:10, 10.02s/trial, best loss: 6.651438559376775]\n",
      " 16%|█▌        | 8/50 [00:57<05:11,  7.41s/trial, best loss: 6.651438559376775]\n",
      " 18%|█▊        | 9/50 [01:06<05:28,  8.01s/trial, best loss: 6.651438559376775]\n",
      " 20%|██        | 10/50 [01:14<05:15,  7.89s/trial, best loss: 6.651438559376775]\n",
      " 22%|██▏       | 11/50 [01:19<04:42,  7.23s/trial, best loss: 6.642137287429206]\n",
      " 24%|██▍       | 12/50 [01:24<04:04,  6.43s/trial, best loss: 6.642137287429206]\n",
      " 26%|██▌       | 13/50 [01:26<03:03,  4.95s/trial, best loss: 6.642137287429206]\n",
      " 28%|██▊       | 14/50 [01:31<02:58,  4.96s/trial, best loss: 6.642137287429206]\n",
      " 30%|███       | 15/50 [01:38<03:23,  5.82s/trial, best loss: 6.642137287429206]\n",
      " 32%|███▏      | 16/50 [01:43<03:01,  5.32s/trial, best loss: 6.642137287429206]\n",
      " 34%|███▍      | 17/50 [01:50<03:15,  5.93s/trial, best loss: 6.642137287429206]\n",
      " 36%|███▌      | 18/50 [02:02<04:05,  7.67s/trial, best loss: 6.629728007710133]\n",
      " 38%|███▊      | 19/50 [02:04<03:09,  6.12s/trial, best loss: 6.629728007710133]\n",
      " 40%|████      | 20/50 [02:06<02:23,  4.78s/trial, best loss: 6.629728007710133]\n",
      " 42%|████▏     | 21/50 [02:23<04:04,  8.42s/trial, best loss: 6.629728007710133]\n",
      " 44%|████▍     | 22/50 [02:35<04:31,  9.70s/trial, best loss: 6.629728007710133]\n",
      " 46%|████▌     | 23/50 [02:57<05:58, 13.26s/trial, best loss: 6.629728007710133]\n",
      " 48%|████▊     | 24/50 [03:16<06:29, 14.98s/trial, best loss: 6.629728007710133]\n",
      " 50%|█████     | 25/50 [03:29<05:59, 14.36s/trial, best loss: 6.629728007710133]\n",
      " 52%|█████▏    | 26/50 [03:43<05:41, 14.24s/trial, best loss: 6.629728007710133]\n",
      " 54%|█████▍    | 27/50 [03:50<04:36, 12.04s/trial, best loss: 6.629728007710133]\n",
      " 56%|█████▌    | 28/50 [04:05<04:48, 13.12s/trial, best loss: 6.629728007710133]\n",
      " 58%|█████▊    | 29/50 [04:10<03:40, 10.48s/trial, best loss: 6.629728007710133]\n",
      " 60%|██████    | 30/50 [04:25<03:58, 11.92s/trial, best loss: 6.629728007710133]\n",
      " 62%|██████▏   | 31/50 [04:25<02:41,  8.51s/trial, best loss: 6.629728007710133]\n",
      " 64%|██████▍   | 32/50 [04:34<02:34,  8.56s/trial, best loss: 6.629728007710133]\n",
      " 66%|██████▌   | 33/50 [04:50<03:02, 10.76s/trial, best loss: 6.629728007710133]\n",
      " 68%|██████▊   | 34/50 [05:04<03:08, 11.79s/trial, best loss: 6.6284257482044735]\n",
      " 70%|███████   | 35/50 [05:11<02:33, 10.27s/trial, best loss: 6.6284257482044735]\n",
      " 72%|███████▏  | 36/50 [05:19<02:14,  9.58s/trial, best loss: 6.6284257482044735]\n",
      " 74%|███████▍  | 37/50 [05:19<01:28,  6.81s/trial, best loss: 6.6284257482044735]\n",
      " 76%|███████▌  | 38/50 [05:30<01:34,  7.89s/trial, best loss: 6.6284257482044735]\n",
      " 78%|███████▊  | 39/50 [05:42<01:41,  9.25s/trial, best loss: 6.6284257482044735]\n",
      " 80%|████████  | 40/50 [05:54<01:39,  9.96s/trial, best loss: 6.6284257482044735]\n",
      " 82%|████████▏ | 41/50 [05:56<01:07,  7.53s/trial, best loss: 6.6284257482044735]\n",
      " 84%|████████▍ | 42/50 [06:00<00:53,  6.66s/trial, best loss: 6.6284257482044735]\n",
      " 86%|████████▌ | 43/50 [06:07<00:47,  6.82s/trial, best loss: 6.6284257482044735]\n",
      " 88%|████████▊ | 44/50 [06:17<00:46,  7.71s/trial, best loss: 6.6284257482044735]\n",
      " 90%|█████████ | 45/50 [06:22<00:33,  6.73s/trial, best loss: 6.6284257482044735]\n",
      " 92%|█████████▏| 46/50 [06:23<00:20,  5.06s/trial, best loss: 6.6284257482044735]\n",
      " 94%|█████████▍| 47/50 [06:30<00:17,  5.81s/trial, best loss: 6.6284257482044735]\n",
      " 96%|█████████▌| 48/50 [06:34<00:10,  5.08s/trial, best loss: 6.6284257482044735]\n",
      " 98%|█████████▊| 49/50 [06:40<00:05,  5.59s/trial, best loss: 6.6284257482044735]\n",
      "100%|██████████| 50/50 [06:49<00:00,  6.35s/trial, best loss: 6.6284257482044735]\n",
      "100%|██████████| 50/50 [06:49<00:00,  8.18s/trial, best loss: 6.6284257482044735]\n"
     ]
    },
    {
     "name": "stderr",
     "output_type": "stream",
     "text": [
      "2022/05/27 17:19:41 INFO mlflow.tracking.fluent: Experiment with name 'random-forest-hyperopt' does not exist. Creating a new experiment.\n"
     ]
    }
   ],
   "source": [
    "#Run hpo.py script\n",
    "!python hpo.py "
   ]
  },
  {
   "cell_type": "code",
   "execution_count": 38,
   "metadata": {},
   "outputs": [
    {
     "name": "stdout",
     "output_type": "stream",
     "text": [
      "The best result was:  6.6284257482044735\n"
     ]
    }
   ],
   "source": [
    "print('The best result was: ','6.6284257482044735')"
   ]
  },
  {
   "cell_type": "markdown",
   "metadata": {},
   "source": [
    "## Q6. Promote the best model to the model registry\n",
    "\n",
    "The results from the hyperparameter optimization are quite good so we can assume that we are ready to test some of these models in production. In this exercise, you'll promote the best model to the model registry. We have prepared a script called `register_model.py`, which will check the results from the previous step and select the top 5 runs. After that, it will calculate the RMSE of those models on the test set (March 2021 data) and save the results to a new experiment called `random-forest-best-models`.\n",
    "\n",
    "Your task is to update the script `register_model.py` so that it selects the model with the lowest RMSE on the test set and registers it to the model registry.\n",
    "\n",
    "Tip 1: you can use the method `search_runs` from the `MlflowClient` to get the model with the lowest RMSE.\n",
    "Tip 2: to register the model you can use the method `mlflow.register_model` and you will need to pass the right model_uri in the form of a string that looks like this: `\"runs:/<RUN_ID>/model\"`, and the name of the model (make sure to choose a good one!).\n",
    "\n",
    "What is the test RMSE of the best model?\n",
    "\n",
    "* 6.1\n",
    "* 6.55\n",
    "* 7.93\n",
    "* 15.1\n"
   ]
  },
  {
   "cell_type": "code",
   "execution_count": 39,
   "metadata": {},
   "outputs": [
    {
     "name": "stderr",
     "output_type": "stream",
     "text": [
      "2022/05/27 17:48:58 INFO mlflow.tracking.fluent: Experiment with name 'random-forest-best-models' does not exist. Creating a new experiment.\n",
      "2022/05/27 17:48:59 WARNING mlflow.utils.autologging_utils: You are using an unsupported version of sklearn. If you encounter errors during autologging, try upgrading / downgrading sklearn to a supported version, or try upgrading MLflow.\n",
      "2022/05/27 17:49:19 WARNING mlflow.utils.autologging_utils: MLflow autologging encountered a warning: \"c:\\Users\\User\\anaconda3\\envs\\mlflow_enviroment\\lib\\site-packages\\_distutils_hack\\__init__.py:30: UserWarning: Setuptools is replacing distutils.\"\n",
      "Successfully registered model 'random-forest-best-model'.\n",
      "2022/05/27 17:50:46 INFO mlflow.tracking._model_registry.client: Waiting up to 300 seconds for model version to finish creation.                     Model name: random-forest-best-model, version 1\n",
      "Created version '1' of model 'random-forest-best-model'.\n"
     ]
    }
   ],
   "source": [
    "#Run register_model.py\n",
    "!python register_model.py"
   ]
  },
  {
   "cell_type": "markdown",
   "metadata": {},
   "source": [
    "## Seeing in the UI the best model\n",
    "![Best Model RMSE value](images/best_model.PNG)\n"
   ]
  },
  {
   "cell_type": "markdown",
   "metadata": {},
   "source": []
  }
 ],
 "metadata": {
  "interpreter": {
   "hash": "4d2ad5ac18c3abcb5c98befe48645e7d9b67b3db0b4c475c0094f63b49c90c34"
  },
  "kernelspec": {
   "display_name": "Python 3.9.12 ('mlflow_enviroment')",
   "language": "python",
   "name": "python3"
  },
  "language_info": {
   "codemirror_mode": {
    "name": "ipython",
    "version": 3
   },
   "file_extension": ".py",
   "mimetype": "text/x-python",
   "name": "python",
   "nbconvert_exporter": "python",
   "pygments_lexer": "ipython3",
   "version": "3.9.12"
  },
  "orig_nbformat": 4
 },
 "nbformat": 4,
 "nbformat_minor": 2
}
