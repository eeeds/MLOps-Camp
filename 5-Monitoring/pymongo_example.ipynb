{
 "cells": [
  {
   "cell_type": "code",
   "execution_count": 1,
   "id": "7c4fbf79",
   "metadata": {},
   "outputs": [],
   "source": [
    "import pymongo\n"
   ]
  },
  {
   "cell_type": "code",
   "execution_count": 2,
   "id": "ac1f5940",
   "metadata": {},
   "outputs": [],
   "source": [
    "##Create the client (you can see the address on the docker container)\n",
    "client =pymongo.MongoClient('mongodb:///localhost:27018')\n",
    "db = client.get_database(\"prediction_service\")"
   ]
  },
  {
   "cell_type": "code",
   "execution_count": 3,
   "id": "cd78d4c9",
   "metadata": {},
   "outputs": [],
   "source": [
    "#Create a collection\n",
    "data_collection = db.get_collection(\"data\")"
   ]
  },
  {
   "cell_type": "code",
   "execution_count": 10,
   "id": "b38044a4",
   "metadata": {},
   "outputs": [],
   "source": [
    "data = list(data_collection.find())"
   ]
  },
  {
   "cell_type": "code",
   "execution_count": 11,
   "id": "c74b94dd",
   "metadata": {},
   "outputs": [
    {
     "data": {
      "text/plain": [
       "{'_id': ObjectId('62c49e0093bbc6c0c979a748'),\n",
       " 'lpep_pickup_datetime': '2021-01-01 00:15:56',\n",
       " 'PULocationID': 43,\n",
       " 'DOLocationID': 151,\n",
       " 'passenger_count': 1.0,\n",
       " 'trip_distance': 1.01,\n",
       " 'PU_DO': '43_151',\n",
       " 'prediction': 6.120202919137569}"
      ]
     },
     "execution_count": 11,
     "metadata": {},
     "output_type": "execute_result"
    }
   ],
   "source": [
    "data[0]"
   ]
  },
  {
   "cell_type": "code",
   "execution_count": 12,
   "id": "26f08f7a",
   "metadata": {},
   "outputs": [
    {
     "data": {
      "text/plain": [
       "475"
      ]
     },
     "execution_count": 12,
     "metadata": {},
     "output_type": "execute_result"
    }
   ],
   "source": [
    "len(data)"
   ]
  },
  {
   "cell_type": "code",
   "execution_count": null,
   "id": "a8fa4b2f",
   "metadata": {},
   "outputs": [],
   "source": []
  }
 ],
 "metadata": {
  "kernelspec": {
   "display_name": "Python 3 (ipykernel)",
   "language": "python",
   "name": "python3"
  },
  "language_info": {
   "codemirror_mode": {
    "name": "ipython",
    "version": 3
   },
   "file_extension": ".py",
   "mimetype": "text/x-python",
   "name": "python",
   "nbconvert_exporter": "python",
   "pygments_lexer": "ipython3",
   "version": "3.9.12"
  }
 },
 "nbformat": 4,
 "nbformat_minor": 5
}
