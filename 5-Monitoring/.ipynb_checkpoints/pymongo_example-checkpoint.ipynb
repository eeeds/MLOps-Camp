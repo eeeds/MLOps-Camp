{
 "cells": [
  {
   "cell_type": "code",
   "execution_count": 1,
   "id": "b2385558",
   "metadata": {},
   "outputs": [],
   "source": [
    "import pymongo\n"
   ]
  },
  {
   "cell_type": "code",
   "execution_count": 2,
   "id": "9b4c02b4",
   "metadata": {},
   "outputs": [],
   "source": [
    "##Create the client (you can see the address on the docker container)\n",
    "client =pymongo.MongoClient('mongodb:///localhost:27018')\n",
    "db = client.get_database(\"prediction_service\")"
   ]
  },
  {
   "cell_type": "code",
   "execution_count": null,
   "id": "18f5d14a",
   "metadata": {},
   "outputs": [],
   "source": [
    "#Create a collection\n"
   ]
  }
 ],
 "metadata": {
  "kernelspec": {
   "display_name": "Python 3 (ipykernel)",
   "language": "python",
   "name": "python3"
  },
  "language_info": {
   "codemirror_mode": {
    "name": "ipython",
    "version": 3
   },
   "file_extension": ".py",
   "mimetype": "text/x-python",
   "name": "python",
   "nbconvert_exporter": "python",
   "pygments_lexer": "ipython3",
   "version": "3.9.12"
  }
 },
 "nbformat": 4,
 "nbformat_minor": 5
}
